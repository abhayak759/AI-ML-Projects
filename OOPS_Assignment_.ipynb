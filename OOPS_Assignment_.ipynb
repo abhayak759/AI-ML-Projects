{
  "nbformat": 4,
  "nbformat_minor": 0,
  "metadata": {
    "colab": {
      "provenance": [],
      "authorship_tag": "ABX9TyN6OFXT1sPcpA4tVkPaI4rs",
      "include_colab_link": true
    },
    "kernelspec": {
      "name": "python3",
      "display_name": "Python 3"
    },
    "language_info": {
      "name": "python"
    }
  },
  "cells": [
    {
      "cell_type": "markdown",
      "metadata": {
        "id": "view-in-github",
        "colab_type": "text"
      },
      "source": [
        "<a href=\"https://colab.research.google.com/github/abhayak759/AI-ML-Projects/blob/main/OOPS_Assignment_.ipynb\" target=\"_parent\"><img src=\"https://colab.research.google.com/assets/colab-badge.svg\" alt=\"Open In Colab\"/></a>"
      ]
    },
    {
      "cell_type": "code",
      "execution_count": 1,
      "metadata": {
        "colab": {
          "base_uri": "https://localhost:8080/",
          "height": 122
        },
        "id": "InSmCeRYqanm",
        "outputId": "d0e9ac62-0b8d-4b77-b956-90e698256fa1"
      },
      "outputs": [
        {
          "output_type": "execute_result",
          "data": {
            "text/plain": [
              "\"\\nEncapsulation\\nBundling data and methods that operate on that data into a single unit (class) and restricting direct access to some components.\\nExample: Use of private variables and public getter/setter methods.\\n\\n\\nAbstraction\\nHiding the complex implementation details and showing only the essential features of an object.\\nExample: A car's interface (steering wheel, pedals) hides the complexity of the engine.\\n\\n\\nInheritance\\nAllowing a class (child) to inherit properties and methods from another class (parent), promoting code reuse.\\nExample: A Dog class inheriting from an Animal class.\\n\\n\\nPolymorphism\\nAllowing a single entity (method or object) to behave differently based on the context.\\nExample: Method overloading and method overriding.\\n\\n\\nDynamic Binding (or Late Binding)\\nResolving method calls at runtime, allowing for flexibility and extensibility.\\nExample: Virtual functions in C++ or method overriding in Java.\\n\\n\\n\""
            ],
            "application/vnd.google.colaboratory.intrinsic+json": {
              "type": "string"
            }
          },
          "metadata": {},
          "execution_count": 1
        }
      ],
      "source": [
        " #Q1 What are the five key concepts of Object-Oriented Programming (OOP)?\n",
        "\n",
        " #Answer\n",
        "\n",
        " '''\n",
        "Encapsulation\n",
        "Bundling data and methods that operate on that data into a single unit (class) and restricting direct access to some components.\n",
        "Example: Use of private variables and public getter/setter methods.\n",
        "\n",
        "\n",
        "Abstraction\n",
        "Hiding the complex implementation details and showing only the essential features of an object.\n",
        "Example: A car's interface (steering wheel, pedals) hides the complexity of the engine.\n",
        "\n",
        "\n",
        "Inheritance\n",
        "Allowing a class (child) to inherit properties and methods from another class (parent), promoting code reuse.\n",
        "Example: A Dog class inheriting from an Animal class.\n",
        "\n",
        "\n",
        "Polymorphism\n",
        "Allowing a single entity (method or object) to behave differently based on the context.\n",
        "Example: Method overloading and method overriding.\n",
        "\n",
        "\n",
        "Dynamic Binding (or Late Binding)\n",
        "Resolving method calls at runtime, allowing for flexibility and extensibility.\n",
        "Example: Virtual functions in C++ or method overriding in Java.\n",
        "\n",
        "\n",
        " '''"
      ]
    },
    {
      "cell_type": "code",
      "source": [
        "# Q2  Write a Python class for a `Car` with attributes for `make`, `model`, and `year`. Include a method to display the car's information.\n",
        "\n",
        "# Answer\n",
        "\n",
        "class Car:\n",
        "    def __init__(self, make, model, year):\n",
        "        \"\"\"Initialize the Car object with make, model, and year.\"\"\"\n",
        "        self.make = make\n",
        "        self.model = model\n",
        "        self.year = year\n",
        "\n",
        "    def display_info(self):\n",
        "        \"\"\"Display the car's information.\"\"\"\n",
        "        print(f\"Car Information: {self.year} {self.make} {self.model}\")\n",
        "car = Car(\"Toyota\", \"Corolla\", 2021)\n",
        "car.display_info()\n",
        "\n",
        "\n",
        "\n"
      ],
      "metadata": {
        "colab": {
          "base_uri": "https://localhost:8080/"
        },
        "id": "tRBezsVargkj",
        "outputId": "39c7aff7-32f7-4e9c-8548-b2a3f0797f72"
      },
      "execution_count": 2,
      "outputs": [
        {
          "output_type": "stream",
          "name": "stdout",
          "text": [
            "Car Information: 2021 Toyota Corolla\n"
          ]
        }
      ]
    },
    {
      "cell_type": "code",
      "source": [
        "# Q3  Explain the difference between instance methods and class methods. Provide an example of each.\n",
        "\n",
        "# Answer\n",
        "\n",
        "'''\n",
        "Instance Methods:\n",
        "Belong to an instance of the class and operate on instance-specific data.\n",
        "Require self as their first parameter, which refers to the instance of the class.\n",
        "Can access and modify both instance variables and class-level variables.\n",
        "\n",
        "\n",
        "\n",
        "Class Methods:\n",
        "Belong to the class itself and operate on class-level data.\n",
        "Require cls as their first parameter, which refers to the class.\n",
        "Cannot modify instance-specific data directly.\n",
        "Decorated with @classmethod.\n",
        "'''\n",
        "\n",
        "##Example\n",
        "\n",
        "class Example:\n",
        "    class_variable = \"Class Level\"\n",
        "\n",
        "    def __init__(self, instance_variable):\n",
        "        self.instance_variable = instance_variable\n",
        "\n",
        "    # Instance Method\n",
        "    def instance_method(self):\n",
        "        return f\"Instance Method: {self.instance_variable}, {Example.class_variable}\"\n",
        "\n",
        "    # Class Method\n",
        "    @classmethod\n",
        "    def class_method(cls):\n",
        "        return f\"Class Method: {cls.class_variable}\"\n",
        "\n",
        "obj = Example(\"Instance Level\")\n",
        "\n",
        "print(obj.instance_method())\n",
        "\n",
        "print(Example.class_method())"
      ],
      "metadata": {
        "colab": {
          "base_uri": "https://localhost:8080/"
        },
        "id": "nJQhfE0RsaQi",
        "outputId": "9e4ee837-92d7-43d1-e3cf-1f62090b422c"
      },
      "execution_count": 3,
      "outputs": [
        {
          "output_type": "stream",
          "name": "stdout",
          "text": [
            "Instance Method: Instance Level, Class Level\n",
            "Class Method: Class Level\n"
          ]
        }
      ]
    },
    {
      "cell_type": "code",
      "source": [
        "# Q4  How does Python implement method overloading? Give an example.\n",
        "\n",
        "#Answer\n",
        "\n",
        "'''\n",
        "Python does not support traditional method overloading (i.e., defining multiple methods with the same name but different parameter lists) as seen in languages like Java or C++.\n",
        "Instead, Python achieves similar functionality by using default arguments, *args and **kwargs, or by manually checking the arguments inside a single method.\n",
        "\n",
        "'''\n",
        "\n",
        "class Example:\n",
        "    def greet(self, name=None):\n",
        "        if name:\n",
        "            return f\"Hello, {name}!\"\n",
        "        return \"Hello, world!\"\n",
        "obj = Example()\n",
        "\n",
        "print(obj.greet())\n",
        "print(obj.greet(\"Alex\"))\n"
      ],
      "metadata": {
        "colab": {
          "base_uri": "https://localhost:8080/"
        },
        "id": "L9IoXa7Iu9Y3",
        "outputId": "e400fa33-1966-463a-d894-9e750de7fbe0"
      },
      "execution_count": 6,
      "outputs": [
        {
          "output_type": "stream",
          "name": "stdout",
          "text": [
            "Hello, world!\n",
            "Hello, Alex!\n"
          ]
        }
      ]
    },
    {
      "cell_type": "code",
      "source": [
        "# Q5 What are the three types of access modifiers in Python? How are they denoted?\n",
        "\n",
        "# Answer\n",
        "\n",
        "'''\n",
        "Public\n",
        "\n",
        "Definition: Attributes and methods are accessible from anywhere, both inside and outside the class.\n",
        "Notation: No special notation; simply define the variable or method name.\n",
        "Example:\n",
        "'''\n",
        "class MyClass:\n",
        "    def __init__(self):\n",
        "        self.public_var = \"I am public\"\n",
        "\n",
        "    def public_method(self):\n",
        "        return \"Public method\"\n",
        "\n",
        "obj = MyClass()\n",
        "print(obj.public_var)  # Accessible\n",
        "print(obj.public_method())  # Accessible\n",
        "\n",
        "\n",
        "'''\n",
        "Protected\n",
        "\n",
        "Definition: Attributes and methods are intended to be accessed only within the class and its subclasses. Python does not enforce this strictly but uses a convention to indicate it.\n",
        "Notation: Prefix the name with a single underscore (_).\n",
        "\n",
        "'''\n",
        "class MyClass:\n",
        "    def __init__(self):\n",
        "        self._protected_var = \"I am protected\"\n",
        "\n",
        "    def _protected_method(self):\n",
        "        return \"Protected method\"\n",
        "\n",
        "obj = MyClass()\n",
        "print(obj._protected_var)  # Accessible but intended to be protected\n",
        "print(obj._protected_method())  # Accessible but intended to be protected\n",
        "\n",
        "'''\n",
        "Private\n",
        "\n",
        "Definition: Attributes and methods are intended to be accessible only within the class. Python performs name mangling to make these harder to access from outside the class.\n",
        "Notation: Prefix the name with a double underscore (__).\n",
        "\n",
        "'''\n",
        "class MyClass:\n",
        "    def __init__(self):\n",
        "        self.__private_var = \"I am private\"\n",
        "\n",
        "    def __private_method(self):\n",
        "        return \"Private method\"\n",
        "\n",
        "    def access_private(self):\n",
        "        return self.__private_method()\n",
        "\n",
        "obj = MyClass()\n",
        "# print(obj.__private_var)\n",
        "print(obj.access_private())\n",
        "\n",
        "\n"
      ],
      "metadata": {
        "colab": {
          "base_uri": "https://localhost:8080/"
        },
        "id": "Ssn0gQzKwJ1h",
        "outputId": "973427f0-a75b-4d9f-b89b-15b0da655417"
      },
      "execution_count": 7,
      "outputs": [
        {
          "output_type": "stream",
          "name": "stdout",
          "text": [
            "I am public\n",
            "Public method\n",
            "I am protected\n",
            "Protected method\n",
            "Private method\n"
          ]
        }
      ]
    },
    {
      "cell_type": "code",
      "source": [
        "# Q6  Describe the five types of inheritance in Python. Provide a simple example of multiple inheritance.\n",
        "\n",
        "# Answer\n",
        "\n",
        "# Single inheritance - a class which has been inherited form one parent class.\n",
        "\n",
        "# Multilevel Inheritance- A child class inherits from a parent class, and another child class inherits from that child class.\n",
        "\n",
        "# Hierarchical Inheritance- Multiple child classes inherit from a single parent class.\n",
        "\n",
        "# Hybrid Inheritance- A combination of two or more types of inheritance.\n",
        "\n",
        "# Multiple Inheritance- A child class inherits from more than one parent class.\n",
        "\n",
        "class Parent1:\n",
        "    def feature1(self):\n",
        "        print(\"Feature 1 from Parent1\")\n",
        "\n",
        "class Parent2:\n",
        "    def feature2(self):\n",
        "        print(\"Feature 2 from Parent2\")\n",
        "\n",
        "class Child(Parent1, Parent2):\n",
        "    pass\n",
        "\n",
        "obj = Child()\n",
        "obj.feature1()\n",
        "obj.feature2()\n"
      ],
      "metadata": {
        "colab": {
          "base_uri": "https://localhost:8080/"
        },
        "id": "BIRqt9B0xhZG",
        "outputId": "5a68ec1b-7666-41f7-8b49-1a86d615baaf"
      },
      "execution_count": 9,
      "outputs": [
        {
          "output_type": "stream",
          "name": "stdout",
          "text": [
            "Feature 1 from Parent1\n",
            "Feature 2 from Parent2\n"
          ]
        }
      ]
    },
    {
      "cell_type": "code",
      "source": [
        "# Q7  What is the Method Resolution Order (MRO) in Python? How can you retrieve it programmatically?\n",
        "\n",
        "# Answer\n",
        "\n",
        "'''\n",
        "The Method Resolution Order (MRO) in Python is the order in which the base classes are searched for a method or attribute during inheritance.\n",
        "This order determines how Python resolves method calls in a class hierarchy, especially in cases of multiple or hybrid inheritance.\n",
        "\n",
        "'''\n",
        "##Using the __mro__ Attribute:\n",
        "##Returns a tuple of the class hierarchy in MRO order.\n",
        "\n",
        "print(ClassName.__mro__)\n",
        "\n",
        "##Using the mro() Method:\n",
        "##Returns a list of the classes in MRO order.\n",
        "print(ClassName.mro())\n"
      ],
      "metadata": {
        "colab": {
          "base_uri": "https://localhost:8080/",
          "height": 53
        },
        "id": "denWY-_ixwGX",
        "outputId": "8204604e-672b-4510-bc2f-693017eead24"
      },
      "execution_count": 11,
      "outputs": [
        {
          "output_type": "execute_result",
          "data": {
            "text/plain": [
              "'\\nThe Method Resolution Order (MRO) in Python is the order in which the base classes are searched for a method or attribute during inheritance. \\nThis order determines how Python resolves method calls in a class hierarchy, especially in cases of multiple or hybrid inheritance.\\n\\n'"
            ],
            "application/vnd.google.colaboratory.intrinsic+json": {
              "type": "string"
            }
          },
          "metadata": {},
          "execution_count": 11
        }
      ]
    },
    {
      "cell_type": "code",
      "source": [
        "# Q8 Create an abstract base class `Shape` with an abstract method `area()`. Then create two subclasses `Circle` and `Rectangle` that implement the `area()` method.\n",
        "\n",
        "# Answer\n",
        "from abc import ABC, abstractmethod\n",
        "import math\n",
        "\n",
        "# Abstract base class\n",
        "class Shape(ABC):\n",
        "    @abstractmethod\n",
        "    def area(self):\n",
        "        \"\"\"Calculate the area of the shape.\"\"\"\n",
        "        pass\n",
        "\n",
        "# Subclass: Circle\n",
        "class Circle(Shape):\n",
        "    def __init__(self, radius):\n",
        "        self.radius = radius\n",
        "\n",
        "    def area(self):\n",
        "        return math.pi * self.radius**2\n",
        "\n",
        "# Subclass: Rectangle\n",
        "class Rectangle(Shape):\n",
        "    def __init__(self, length, width):\n",
        "        self.length = length\n",
        "        self.width = width\n",
        "\n",
        "    def area(self):\n",
        "        return self.length * self.width\n",
        "\n",
        "circle = Circle(5)\n",
        "print(f\"Circle Area: {circle.area():.2f}\")\n",
        "\n",
        "rectangle = Rectangle(4, 6)\n",
        "print(f\"Rectangle Area: {rectangle.area()}\")\n"
      ],
      "metadata": {
        "colab": {
          "base_uri": "https://localhost:8080/"
        },
        "id": "22gYxzM54rLt",
        "outputId": "8e5e70b3-9182-4629-89f1-f59a96c6e6f3"
      },
      "execution_count": 12,
      "outputs": [
        {
          "output_type": "stream",
          "name": "stdout",
          "text": [
            "Circle Area: 78.54\n",
            "Rectangle Area: 24\n"
          ]
        }
      ]
    },
    {
      "cell_type": "code",
      "source": [
        "# Q9 Demonstrate polymorphism by creating a function that can work with different shape objects to calculate and print their areas.\n",
        "\n",
        "# Answer\n",
        "\n",
        "from abc import ABC, abstractmethod\n",
        "import math\n",
        "\n",
        "# Abstract base class\n",
        "class Shape(ABC):\n",
        "    @abstractmethod\n",
        "    def area(self):\n",
        "        \"\"\"Calculate the area of the shape.\"\"\"\n",
        "        pass\n",
        "\n",
        "# Subclass: Circle\n",
        "class Circle(Shape):\n",
        "    def __init__(self, radius):\n",
        "        self.radius = radius\n",
        "\n",
        "    def area(self):\n",
        "        return math.pi * self.radius**2\n",
        "\n",
        "# Subclass: Rectangle\n",
        "class Rectangle(Shape):\n",
        "    def __init__(self, length, width):\n",
        "        self.length = length\n",
        "        self.width = width\n",
        "\n",
        "    def area(self):\n",
        "        return self.length * self.width\n",
        "\n",
        "# Polymorphic function\n",
        "def print_area(shape):\n",
        "    \"\"\"Calculate and print the area of any shape.\"\"\"\n",
        "    print(f\"The area is: {shape.area():.2f}\")\n",
        "\n",
        "# Example usage\n",
        "circle = Circle(5)\n",
        "rectangle = Rectangle(4, 6)\n",
        "\n",
        "print_area(circle)\n",
        "print_area(rectangle)\n"
      ],
      "metadata": {
        "colab": {
          "base_uri": "https://localhost:8080/"
        },
        "id": "mAkj6RH_5Ikz",
        "outputId": "2ea5b348-2eb2-410c-887e-8fd985cf6bf6"
      },
      "execution_count": 13,
      "outputs": [
        {
          "output_type": "stream",
          "name": "stdout",
          "text": [
            "The area is: 78.54\n",
            "The area is: 24.00\n"
          ]
        }
      ]
    },
    {
      "cell_type": "code",
      "source": [
        "# Q10 Implement encapsulation in a `BankAccount` class with private attributes for `balance` and`account_number`. Include methods for deposit, withdrawal, and balance inquiry.\n",
        "\n",
        "# Answer\n",
        "class BankAccount:\n",
        "    def __init__(self, account_number, initial_balance=0):\n",
        "\n",
        "        self.__account_number = account_number\n",
        "        self.__balance = initial_balance\n",
        "\n",
        "\n",
        "    def deposit(self, amount):\n",
        "        if amount > 0:\n",
        "            self.__balance += amount\n",
        "            print(f\"Deposited: {amount}. New Balance: {self.__balance}\")\n",
        "        else:\n",
        "            print(\"Deposit amount must be positive!\")\n",
        "\n",
        "\n",
        "    def withdraw(self, amount):\n",
        "        if amount > 0 and amount <= self.__balance:\n",
        "            self.__balance -= amount\n",
        "            print(f\"Withdrew: {amount}. Remaining Balance: {self.__balance}\")\n",
        "        elif amount > self.__balance:\n",
        "            print(\"Insufficient balance!\")\n",
        "        else:\n",
        "            print(\"Withdrawal amount must be positive!\")\n",
        "\n",
        "\n",
        "    def get_balance(self):\n",
        "        return f\"Current Balance: {self.__balance}\"\n",
        "\n",
        "\n",
        "    def get_account_number(self):\n",
        "        return f\"Account Number: {self.__account_number}\"\n",
        "\n",
        "# Example usage\n",
        "account = BankAccount(\"123456789\", 500)\n",
        "\n",
        "account.deposit(200)\n",
        "\n",
        "account.withdraw(100)\n",
        "\n",
        "print(account.get_balance())\n",
        "\n",
        "print(account.get_account_number())\n",
        "\n",
        "\n"
      ],
      "metadata": {
        "colab": {
          "base_uri": "https://localhost:8080/"
        },
        "id": "01Jbey755orO",
        "outputId": "20ac178a-b366-42a1-c6f1-1563eb508d97"
      },
      "execution_count": 14,
      "outputs": [
        {
          "output_type": "stream",
          "name": "stdout",
          "text": [
            "Deposited: 200. New Balance: 700\n",
            "Withdrew: 100. Remaining Balance: 600\n",
            "Current Balance: 600\n",
            "Account Number: 123456789\n"
          ]
        }
      ]
    },
    {
      "cell_type": "code",
      "source": [
        "# Q11  Write a class that overrides the `__str__` and `__add__` magic methods. What will these methods allow you to do?\n",
        "\n",
        "# Answer\n",
        "\n",
        " # the __str__ and __add__ magic methods allow you to customize the string representation of objects and define how objects are added together, respectively.\n",
        "\n",
        "class Vector:\n",
        "    def __init__(self, x, y):\n",
        "        self.x = x\n",
        "        self.y = y\n",
        "\n",
        "    def __str__(self):\n",
        "        return f\"Vector({self.x}, {self.y})\"\n",
        "\n",
        "    def __add__(self, other):\n",
        "        if isinstance(other, Vector):\n",
        "            return Vector(self.x + other.x, self.y + other.y)\n",
        "        return NotImplemented\n",
        "\n",
        "# Example usage\n",
        "v1 = Vector(2, 3)\n",
        "v2 = Vector(4, 5)\n",
        "\n",
        "print(v1)\n",
        "\n",
        "v3 = v1 + v2\n",
        "print(v3)\n"
      ],
      "metadata": {
        "colab": {
          "base_uri": "https://localhost:8080/"
        },
        "id": "CTqY0NzE5-dh",
        "outputId": "ec47fdfb-c3e6-46dc-dccf-92f70e652420"
      },
      "execution_count": 16,
      "outputs": [
        {
          "output_type": "stream",
          "name": "stdout",
          "text": [
            "Vector(2, 3)\n",
            "Vector(6, 8)\n"
          ]
        }
      ]
    },
    {
      "cell_type": "code",
      "source": [
        "# Q12 Create a decorator that measures and prints the execution time of a function.\n",
        "\n",
        "# Answer\n",
        "\n",
        "import time\n",
        "def measure_time(func):\n",
        "    def wrapper(*args, **kwargs):\n",
        "        start_time = time.time()\n",
        "        result = func(*args, **kwargs)\n",
        "        end_time = time.time()\n",
        "        execution_time = end_time - start_time\n",
        "        print(f\"Execution time of {func.__name__}: {execution_time:.4f} seconds\")\n",
        "        return result\n",
        "    return wrapper\n",
        "\n",
        "@measure_time\n",
        "def slow_function():\n",
        "    time.sleep(2)\n",
        "slow_function()\n"
      ],
      "metadata": {
        "colab": {
          "base_uri": "https://localhost:8080/"
        },
        "id": "Z9TiqzbL6XZr",
        "outputId": "b8074f73-c135-418b-d2af-c85db587cba5"
      },
      "execution_count": 17,
      "outputs": [
        {
          "output_type": "stream",
          "name": "stdout",
          "text": [
            "Execution time of slow_function: 2.0021 seconds\n"
          ]
        }
      ]
    },
    {
      "cell_type": "code",
      "source": [
        "# Q13  Explain the concept of the Diamond Problem in multiple inheritance. How does Python resolve it?\n",
        "\n",
        "# Answer\n",
        "\n",
        "'''\n",
        "The Diamond Problem occurs in object-oriented programming when a class inherits from two classes that have a common ancestor, leading to ambiguity in the method resolution order (MRO).\n",
        "It is commonly associated with multiple inheritance.\n",
        "'''\n",
        "\n",
        "''' Example\n",
        "       A\n",
        "      / \\\n",
        "     B   C\n",
        "      \\ /\n",
        "       D\n",
        "\n",
        "'''\n",
        "\n",
        "# Code Example\n",
        "class A:\n",
        "    def greet(self):\n",
        "        print(\"Hello from A\")\n",
        "\n",
        "class B(A):\n",
        "    def greet(self):\n",
        "        print(\"Hello from B\")\n",
        "\n",
        "class C(A):\n",
        "    def greet(self):\n",
        "        print(\"Hello from C\")\n",
        "\n",
        "class D(B, C):\n",
        "    pass\n",
        "\n",
        "d = D()\n",
        "d.greet()\n",
        "\n",
        "# How does python resolves it....\n",
        "'''\n",
        "MRO (Method Resolution Order): Python uses the MRO to determine the order in which classes should be searched for a method or attribute.\n",
        "'''\n"
      ],
      "metadata": {
        "colab": {
          "base_uri": "https://localhost:8080/",
          "height": 53
        },
        "id": "2izKNiZ86wM4",
        "outputId": "00db0979-8eeb-46d8-e2f9-7dc3b177d74a"
      },
      "execution_count": 18,
      "outputs": [
        {
          "output_type": "stream",
          "name": "stdout",
          "text": [
            "Hello from B\n"
          ]
        },
        {
          "output_type": "execute_result",
          "data": {
            "text/plain": [
              "'\\nMRO (Method Resolution Order): Python uses the MRO to determine the order in which classes should be searched for a method or attribute.\\n'"
            ],
            "application/vnd.google.colaboratory.intrinsic+json": {
              "type": "string"
            }
          },
          "metadata": {},
          "execution_count": 18
        }
      ]
    },
    {
      "cell_type": "code",
      "source": [
        "# Q14 Write a class method that keeps track of the number of instances created from a class.\n",
        "\n",
        "# Answer\n",
        "\n",
        "class MyClass:\n",
        "    instance_count = 0\n",
        "\n",
        "    def __init__(self):\n",
        "\n",
        "        MyClass.instance_count += 1\n",
        "\n",
        "    @classmethod\n",
        "    def get_instance_count(cls):\n",
        "        return cls.instance_count\n",
        "\n",
        "obj1 = MyClass()\n",
        "obj2 = MyClass()\n",
        "obj3 = MyClass()\n",
        "print(MyClass.get_instance_count())\n"
      ],
      "metadata": {
        "colab": {
          "base_uri": "https://localhost:8080/"
        },
        "id": "49GhLwxP7m9x",
        "outputId": "e063377e-eea0-43d9-b79e-858d2bdd6461"
      },
      "execution_count": 19,
      "outputs": [
        {
          "output_type": "stream",
          "name": "stdout",
          "text": [
            "3\n"
          ]
        }
      ]
    },
    {
      "cell_type": "code",
      "source": [
        "# Q15  Implement a static method in a class that checks if a given year is a leap year.\n",
        "\n",
        "# Answer\n",
        "\n",
        "class Year:\n",
        "\n",
        "    @staticmethod\n",
        "    def is_leap_year(year):\n",
        "        if (year % 4 == 0 and year % 100 != 0) or (year % 400 == 0):\n",
        "            return True\n",
        "        else:\n",
        "            return False\n",
        "\n",
        "# Example usage\n",
        "year = 2024\n",
        "if Year.is_leap_year(year):\n",
        "    print(f\"{year} is a leap year.\")\n",
        "else:\n",
        "    print(f\"{year} is not a leap year.\")\n"
      ],
      "metadata": {
        "colab": {
          "base_uri": "https://localhost:8080/"
        },
        "id": "LQ2PgxWL78ZY",
        "outputId": "e03c6f7b-8fd6-4fc4-f096-4071fe0f32f3"
      },
      "execution_count": 20,
      "outputs": [
        {
          "output_type": "stream",
          "name": "stdout",
          "text": [
            "2024 is a leap year.\n"
          ]
        }
      ]
    },
    {
      "cell_type": "code",
      "source": [],
      "metadata": {
        "id": "G0TWTG3D8JvL"
      },
      "execution_count": null,
      "outputs": []
    }
  ]
}