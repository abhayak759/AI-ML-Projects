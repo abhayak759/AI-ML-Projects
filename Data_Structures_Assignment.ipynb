{
  "nbformat": 4,
  "nbformat_minor": 0,
  "metadata": {
    "colab": {
      "provenance": [],
      "authorship_tag": "ABX9TyP9LwthQugNPVBSR2McOKcf",
      "include_colab_link": true
    },
    "kernelspec": {
      "name": "python3",
      "display_name": "Python 3"
    },
    "language_info": {
      "name": "python"
    }
  },
  "cells": [
    {
      "cell_type": "markdown",
      "metadata": {
        "id": "view-in-github",
        "colab_type": "text"
      },
      "source": [
        "<a href=\"https://colab.research.google.com/github/abhayak759/AI-ML-Projects/blob/main/Data_Structures_Assignment.ipynb\" target=\"_parent\"><img src=\"https://colab.research.google.com/assets/colab-badge.svg\" alt=\"Open In Colab\"/></a>"
      ]
    },
    {
      "cell_type": "code",
      "execution_count": 1,
      "metadata": {
        "colab": {
          "base_uri": "https://localhost:8080/"
        },
        "id": "0V5VsnDwsYjr",
        "outputId": "0b4ba23d-b50c-4a90-cd63-cc184285ad4f"
      },
      "outputs": [
        {
          "output_type": "stream",
          "name": "stdout",
          "text": [
            "Prog\n",
            "Prog\n",
            "ogramming\n",
            "rgamn\n",
            "gnimmargorP\n"
          ]
        }
      ],
      "source": [
        "# Q1 Discuss string slicing and provide examples\n",
        "\n",
        "# Answer - String slicing in python allows to extract a portion or substring from a given string, by specifying the start, stop and step index. Below are the examples-\n",
        "\n",
        "st='Programming'\n",
        "print(st[0:4])\n",
        "\n",
        "print(st[:4]) # when start is not given, it starts from 0\n",
        "print(st[2:]) #when end is not specified, it slices till the end\n",
        "\n",
        "print(st[1::2]) #it slices every second character as the step is 2\n",
        "print(st[::-1]) #it would reverse the string\n",
        "\n"
      ]
    },
    {
      "cell_type": "code",
      "source": [
        "# Q2 Explain the key features of lists in Python\n",
        "\n",
        "# Answer- There are various features of lists such as -\n",
        "\n",
        "#1. Ordered\n",
        "fruits = [\"apple\", \"banana\", \"cherry\"]\n",
        "print('Ordered -' + str(fruits))   #lists follow the order, it keeps the elemnts in the same way they are inserted\n",
        "\n",
        "#2. Mutable\n",
        "fruits[1]='Avocado'\n",
        "print('Mutable - ' + str(fruits)) # lists are mutable, that means the elements can be changed after its creation\n",
        "\n",
        "#3. Dynamic\n",
        "fruits.append('Mango')\n",
        "print('Dyanmic - ' + str(fruits)) #the size of list can grow or shrink\n",
        "\n",
        "#4. Heterogenous\n",
        "hetero=['List ', 1, 3+7j, 55, 7.99] # list can store the value of different data types\n",
        "print(hetero)\n",
        "\n",
        "#5. Iterable\n",
        "for i in fruits:  #lists are iterable\n",
        "  print(i)\n",
        "\n"
      ],
      "metadata": {
        "colab": {
          "base_uri": "https://localhost:8080/"
        },
        "id": "4mfqu713tUWg",
        "outputId": "d44df038-ab7b-4be1-b2cf-a97e4a03a321"
      },
      "execution_count": 2,
      "outputs": [
        {
          "output_type": "stream",
          "name": "stdout",
          "text": [
            "Ordered -['apple', 'banana', 'cherry']\n",
            "Mutable - ['apple', 'Avocado', 'cherry']\n",
            "Dyanmic - ['apple', 'Avocado', 'cherry', 'Mango']\n",
            "['List ', 1, (3+7j), 55, 7.99]\n",
            "apple\n",
            "Avocado\n",
            "cherry\n",
            "Mango\n"
          ]
        }
      ]
    },
    {
      "cell_type": "code",
      "source": [
        "# Q3 Describe how to access, modify, and delete elements in a list with examples\n",
        "\n",
        "# Answer -\n",
        "\n",
        "#Accessing - the elements can be accessed by providing in the index of the element, you can provide both positive as well as negative index, for example-\n",
        "print(fruits[1]) #as on the first index element Avocado is present it would print that\n",
        "print(fruits[-1]) # it prints the last element which is mango in this case\n",
        "print(fruits[0:3]) # it would print the elements from 0 to 2 index, index 3 would not be included\n",
        "\n",
        "\n",
        "\n",
        "#Modify - list can be modified also by giving in the specific index that you want to modify\n",
        "fruits[2]='strawberry' #it would replace the elemnt on the 2 index\n",
        "print(fruits)\n",
        "\n",
        "fruits[1:3]=['Banana', 'Orange'] #it would modify the elemnts within the range of 1 and 3\n",
        "print(fruits)\n",
        "\n",
        "\n",
        "#Delete - elements can be deleted from a list using remove()\n",
        "fruits.remove('Orange')\n",
        "print(fruits) #orange has been removed or deleted\n",
        "\n",
        "\n",
        "\n"
      ],
      "metadata": {
        "colab": {
          "base_uri": "https://localhost:8080/"
        },
        "id": "F5NvKVesu1lV",
        "outputId": "829fc236-7fa0-4489-d153-bcea0e510136"
      },
      "execution_count": 3,
      "outputs": [
        {
          "output_type": "stream",
          "name": "stdout",
          "text": [
            "Avocado\n",
            "Mango\n",
            "['apple', 'Avocado', 'cherry']\n",
            "['apple', 'Avocado', 'strawberry', 'Mango']\n",
            "['apple', 'Banana', 'Orange', 'Mango']\n",
            "['apple', 'Banana', 'Mango']\n"
          ]
        }
      ]
    },
    {
      "cell_type": "code",
      "source": [
        "# Q4 Compare and contrast tuples and lists with examples\n",
        "\n",
        "#Answer -\n",
        "\n",
        "'''\n",
        "Feature                           \tTuples\t                                   Lists\n",
        "Mutability\t                       Immutable\t                                 Mutable\n",
        "Syntax\t                          Parentheses ( )\t                       Square brackets [ ]\n",
        "Use Case\t                       Fixed, unchangeable data\t             Dynamic, changeable data\n",
        "Methods\tFewer                   (e.g., count, index)\t                (e.g., append, remove, etc.)\n",
        "\n",
        "'''"
      ],
      "metadata": {
        "id": "VD0lRuEHxkwW",
        "colab": {
          "base_uri": "https://localhost:8080/",
          "height": 70
        },
        "outputId": "b58b90e2-564e-4caa-b71c-c47e18499f11"
      },
      "execution_count": 11,
      "outputs": [
        {
          "output_type": "execute_result",
          "data": {
            "text/plain": [
              "'\\nFeature                           \\tTuples\\t                                   Lists\\nMutability\\t                       Immutable\\t                                 Mutable\\nSyntax\\t                          Parentheses ( )\\t                       Square brackets [ ]\\nUse Case\\t                       Fixed, unchangeable data\\t             Dynamic, changeable data\\nMethods\\tFewer                   (e.g., count, index)\\t                (e.g., append, remove, etc.)\\n\\n'"
            ],
            "application/vnd.google.colaboratory.intrinsic+json": {
              "type": "string"
            }
          },
          "metadata": {},
          "execution_count": 11
        }
      ]
    },
    {
      "cell_type": "code",
      "source": [
        "# Q5 Describe the key features of sets and provide examples of their use\n",
        "\n",
        "# Answer - following are the features of sets\n",
        "\n",
        "#1. Unorederd collection\n",
        "myset={1,2,4,3} # the order while printing the elements may vary, like in this example\n",
        "print('Unordered - ' + str(myset))\n",
        "\n",
        "#2. Unique elements\n",
        "myset1={1,3,2,3,4} #set do not conatin duplicates\n",
        "print('Unique - ' + str(myset1))\n",
        "\n",
        "#3. Dynamic\n",
        "myset1.add(5) #you can new elements in  the set\n",
        "print('Dynamic - ' +str(myset1))\n",
        "\n",
        "#4. Immutable\n",
        "#myset1[1]=6 # you can not replace elements after creating the set\n",
        "\n",
        "\n",
        "\n",
        "\n",
        "\n"
      ],
      "metadata": {
        "colab": {
          "base_uri": "https://localhost:8080/"
        },
        "id": "n8ZQrJkI1jec",
        "outputId": "4164d7a2-56c0-4244-afe7-82a75ba884da"
      },
      "execution_count": 4,
      "outputs": [
        {
          "output_type": "stream",
          "name": "stdout",
          "text": [
            "Unordered - {1, 2, 3, 4}\n",
            "Unique - {1, 2, 3, 4}\n",
            "Dynamic - {1, 2, 3, 4, 5}\n"
          ]
        }
      ]
    },
    {
      "cell_type": "code",
      "source": [
        "# Q6 Discuss the use cases of tuples and sets in Python programming\n",
        "\n",
        "'''\n",
        "Answer - Below are the use cases or difference between the features of the two\n",
        "\n",
        "Feature/Use Case\t            Tuples\t                           Sets\n",
        "\n",
        "Mutability\t                 Immutable\t                        Mutable\n",
        "Duplicates Allowed\t           Yes\t                              No\n",
        "Key in Dictionary\t             Yes\t                              No\n",
        "Order\t                       Ordered\t                         Unordered\n",
        "\n",
        "'''"
      ],
      "metadata": {
        "colab": {
          "base_uri": "https://localhost:8080/",
          "height": 70
        },
        "id": "soOxKaxY1jnG",
        "outputId": "bdf20b45-300f-44cf-e5ce-37db1450a491"
      },
      "execution_count": 5,
      "outputs": [
        {
          "output_type": "execute_result",
          "data": {
            "text/plain": [
              "'\\nQ6 Discuss the use cases of tuples and sets in Python programming\\n\\n\\nAnswer - Below are the use cases or difference between the features of the two\\n\\nFeature/Use Case\\t            Tuples\\t                           Sets\\n\\nMutability\\t                 Immutable\\t                        Mutable\\nDuplicates Allowed\\t           Yes\\t                              No\\nKey in Dictionary\\t             Yes\\t                              No\\nOrder\\t                       Ordered\\t                         Unordered\\n\\n'"
            ],
            "application/vnd.google.colaboratory.intrinsic+json": {
              "type": "string"
            }
          },
          "metadata": {},
          "execution_count": 5
        }
      ]
    },
    {
      "cell_type": "code",
      "source": [
        "# Q7 Describe how to add, modify, and delete items in a dictionary with examples\n",
        "\n",
        "# Answer -\n",
        "# Adding a key-value pair\n",
        "dictionary = {\"name\": \"Joe\", \"age\": 37}\n",
        "dictionary[\"city\"] = \"New York\"\n",
        "print(dictionary)\n",
        "\n",
        "# Modifying a value\n",
        "dictionary[\"age\"] = 42\n",
        "print(dictionary)\n",
        "\n",
        "# Deleting a key-value pair\n",
        "del dictionary[\"city\"]\n",
        "print(dictionary)\n",
        "\n",
        "\n"
      ],
      "metadata": {
        "id": "nwnj1vkN8YEK",
        "colab": {
          "base_uri": "https://localhost:8080/"
        },
        "outputId": "56ebd41a-d2cd-484f-dbb1-f4e0b0cfad23"
      },
      "execution_count": 8,
      "outputs": [
        {
          "output_type": "stream",
          "name": "stdout",
          "text": [
            "{'name': 'Joe', 'age': 37, 'city': 'New York'}\n",
            "{'name': 'Joe', 'age': 42, 'city': 'New York'}\n",
            "{'name': 'Joe', 'age': 42}\n"
          ]
        }
      ]
    },
    {
      "cell_type": "code",
      "source": [
        " # Q8 Discuss the importance of dictionary keys being immutable and provide examples\n",
        "\n",
        "#Answer -\n",
        "# Strings and tuples are immutable\n",
        "dictionary = {\n",
        "    \"name\": \"Joe\",\n",
        "    (1, 2): \"coordinates\"\n",
        "}\n",
        "print(dictionary[\"name\"])\n",
        "print(dictionary[(1, 2)])\n",
        "\n",
        "\n",
        "# Lists are mutable and cannot be used as keys\n",
        "invalid_dict = {\n",
        "    [1, 2]: \"value\"  # Raises TypeError\n",
        "}\n",
        "\n"
      ],
      "metadata": {
        "colab": {
          "base_uri": "https://localhost:8080/",
          "height": 245
        },
        "id": "H2C_isOdhZT9",
        "outputId": "42e2c2d8-e752-4b37-966f-45222aade4aa"
      },
      "execution_count": 10,
      "outputs": [
        {
          "output_type": "stream",
          "name": "stdout",
          "text": [
            "Joe\n",
            "coordinates\n"
          ]
        },
        {
          "output_type": "error",
          "ename": "TypeError",
          "evalue": "unhashable type: 'list'",
          "traceback": [
            "\u001b[0;31m---------------------------------------------------------------------------\u001b[0m",
            "\u001b[0;31mTypeError\u001b[0m                                 Traceback (most recent call last)",
            "\u001b[0;32m<ipython-input-10-d95412be93b1>\u001b[0m in \u001b[0;36m<cell line: 12>\u001b[0;34m()\u001b[0m\n\u001b[1;32m      9\u001b[0m \u001b[0;34m\u001b[0m\u001b[0m\n\u001b[1;32m     10\u001b[0m \u001b[0;31m# Lists are mutable and cannot be used as keys\u001b[0m\u001b[0;34m\u001b[0m\u001b[0;34m\u001b[0m\u001b[0m\n\u001b[0;32m---> 11\u001b[0;31m invalid_dict = {\n\u001b[0m\u001b[1;32m     12\u001b[0m     \u001b[0;34m[\u001b[0m\u001b[0;36m1\u001b[0m\u001b[0;34m,\u001b[0m \u001b[0;36m2\u001b[0m\u001b[0;34m]\u001b[0m\u001b[0;34m:\u001b[0m \u001b[0;34m\"value\"\u001b[0m  \u001b[0;31m# Raises TypeError\u001b[0m\u001b[0;34m\u001b[0m\u001b[0;34m\u001b[0m\u001b[0m\n\u001b[1;32m     13\u001b[0m }\n",
            "\u001b[0;31mTypeError\u001b[0m: unhashable type: 'list'"
          ]
        }
      ]
    },
    {
      "cell_type": "code",
      "source": [],
      "metadata": {
        "id": "scuXNSJSh9wv"
      },
      "execution_count": null,
      "outputs": []
    }
  ]
}