{
  "nbformat": 4,
  "nbformat_minor": 0,
  "metadata": {
    "colab": {
      "provenance": [],
      "authorship_tag": "ABX9TyNzcM7Ne9iXUMdSxrKBNY3E",
      "include_colab_link": true
    },
    "kernelspec": {
      "name": "python3",
      "display_name": "Python 3"
    },
    "language_info": {
      "name": "python"
    }
  },
  "cells": [
    {
      "cell_type": "markdown",
      "metadata": {
        "id": "view-in-github",
        "colab_type": "text"
      },
      "source": [
        "<a href=\"https://colab.research.google.com/github/abhayak759/AI-ML-Projects/blob/main/Functions_Assignment.ipynb\" target=\"_parent\"><img src=\"https://colab.research.google.com/assets/colab-badge.svg\" alt=\"Open In Colab\"/></a>"
      ]
    },
    {
      "cell_type": "markdown",
      "source": [
        "# **Theory Questions**"
      ],
      "metadata": {
        "id": "E-W06A3297Ol"
      }
    },
    {
      "cell_type": "code",
      "execution_count": 2,
      "metadata": {
        "colab": {
          "base_uri": "https://localhost:8080/"
        },
        "id": "UWtojQu97tad",
        "outputId": "2104c25d-3e1a-4420-bfb7-f883997c923d"
      },
      "outputs": [
        {
          "output_type": "stream",
          "name": "stdout",
          "text": [
            "Hello!\n",
            "Hello from the object!\n"
          ]
        }
      ],
      "source": [
        "# Q1  What is the difference between a function and a method in Python?\n",
        "\n",
        "# Answer\n",
        "\n",
        "#Function: A block of code that performs a specific task and can be called independently.\n",
        "#Method: A function that is associated with an object and can access the object’s data.\n",
        "\n",
        "def greet():  # Function\n",
        "    print(\"Hello!\")\n",
        "\n",
        "class Person:\n",
        "    def say_hello(self):  # Method\n",
        "        print(\"Hello from the object!\")\n",
        "\n",
        "greet()  # Function call\n",
        "person = Person()\n",
        "person.say_hello()  # Method call\n",
        "\n"
      ]
    },
    {
      "cell_type": "code",
      "source": [
        "# Q2 Explain the concept of function arguments and parameters in Python.\n",
        "\n",
        "# Answer\n",
        "\n",
        "#Parameters: Variables defined in the function definition.\n",
        "#Arguments: Values passed to the function when calling it.\n",
        "\n",
        "def add(a, b):  # 'a' and 'b' are parameters\n",
        "    return a + b\n",
        "\n",
        "result = add(5, 10)  # 5 and 10 are arguments\n",
        "print(result)  # Output: 15\n"
      ],
      "metadata": {
        "colab": {
          "base_uri": "https://localhost:8080/"
        },
        "id": "U341WTJq8Bil",
        "outputId": "2aca3f6a-aa97-482b-f6f2-7e52bf6c72e6"
      },
      "execution_count": 3,
      "outputs": [
        {
          "output_type": "stream",
          "name": "stdout",
          "text": [
            "15\n"
          ]
        }
      ]
    },
    {
      "cell_type": "code",
      "source": [
        "# Q3 What are the different ways to define and call a function in Python?\n",
        "\n",
        "# Answer\n",
        "# Definition: Use the def keyword.\n",
        "# Calling: Call the function using its name and passing arguments.\n",
        "\n",
        "def square(x):  # Define\n",
        "    return x * x\n",
        "\n",
        "print(square(4))  # Call\n"
      ],
      "metadata": {
        "colab": {
          "base_uri": "https://localhost:8080/"
        },
        "id": "wK111FPA8X_O",
        "outputId": "d56b72fb-7159-4128-c778-203b76aac509"
      },
      "execution_count": 4,
      "outputs": [
        {
          "output_type": "stream",
          "name": "stdout",
          "text": [
            "16\n"
          ]
        }
      ]
    },
    {
      "cell_type": "code",
      "source": [
        "# Q4 What is the purpose of the return statement in a Python function?\n",
        "\n",
        "# Answer\n",
        "# Used to send the result of a function to the caller and exit the function.\n",
        "\n",
        "def multiply(a, b):\n",
        "    return a * b\n",
        "\n",
        "result = multiply(3, 4)\n",
        "print(result)  # Output: 12\n"
      ],
      "metadata": {
        "colab": {
          "base_uri": "https://localhost:8080/"
        },
        "id": "iYZ7_ct78mfM",
        "outputId": "5d92f936-e5bf-4c7b-c4e4-6f66ea915f39"
      },
      "execution_count": 5,
      "outputs": [
        {
          "output_type": "stream",
          "name": "stdout",
          "text": [
            "12\n"
          ]
        }
      ]
    },
    {
      "cell_type": "code",
      "source": [
        "# Q5 What are iterators in Python and how do they differ from iterables?\n",
        "\n",
        "#Answer\n",
        "#Iterable: An object that can return an iterator (e.g., list, string).\n",
        "#Iterator: An object with a __next__() method to traverse through its elements.\n",
        "\n",
        "iterable = [1, 2, 3]\n",
        "iterator = iter(iterable)  # Get iterator\n",
        "print(next(iterator))  # Output: 1\n"
      ],
      "metadata": {
        "colab": {
          "base_uri": "https://localhost:8080/"
        },
        "id": "5dPWYfca8zE9",
        "outputId": "a45d0c5d-c595-47c0-c810-10f4336cc800"
      },
      "execution_count": 6,
      "outputs": [
        {
          "output_type": "stream",
          "name": "stdout",
          "text": [
            "1\n"
          ]
        }
      ]
    },
    {
      "cell_type": "code",
      "source": [
        "# Q6  Explain the concept of generators in Python and how they are defined.\n",
        "\n",
        "# Answer\n",
        "#Generators are functions that yield items one at a time using yield instead of return\n",
        "\n",
        "def count_up_to(n):\n",
        "    i = 1\n",
        "    while i <= n:\n",
        "        yield i\n",
        "        i += 1\n",
        "\n",
        "for num in count_up_to(3):\n",
        "    print(num)  # Outputs 1, 2, 3\n"
      ],
      "metadata": {
        "colab": {
          "base_uri": "https://localhost:8080/"
        },
        "id": "ICJETYi48-57",
        "outputId": "00822e6b-0833-4b39-adb3-0a533f46a9cd"
      },
      "execution_count": 7,
      "outputs": [
        {
          "output_type": "stream",
          "name": "stdout",
          "text": [
            "1\n",
            "2\n",
            "3\n"
          ]
        }
      ]
    },
    {
      "cell_type": "code",
      "source": [
        "# Q7 What are the advantages of using generators over regular functions?\n",
        "\n",
        "# Answer\n",
        "#Memory Efficient: Generators yield one value at a time.\n",
        "#Lazy Evaluation: Only computes the next value when needed.\n",
        "\n",
        "def square_numbers(numbers):\n",
        "    for n in numbers:\n",
        "        yield n * n\n",
        "\n",
        "gen = square_numbers(range(3))  # Doesn't compute all at once\n",
        "print(next(gen))  # Output: 0\n"
      ],
      "metadata": {
        "colab": {
          "base_uri": "https://localhost:8080/"
        },
        "id": "x0UUyL9_9Jvj",
        "outputId": "aec28065-21e1-44e5-c3e7-58cad157a3b8"
      },
      "execution_count": 8,
      "outputs": [
        {
          "output_type": "stream",
          "name": "stdout",
          "text": [
            "0\n"
          ]
        }
      ]
    },
    {
      "cell_type": "code",
      "source": [
        "# Q8 What is a lambda function in Python and when is it typically used?\n",
        "\n",
        "# Answer\n",
        "#Lambda Function: Anonymous, single-expression functions.\n",
        "#Usage: Short-term use where a full function definition is unnecessary\n",
        "\n",
        "square = lambda x: x * x\n",
        "print(square(5))  # Output: 25\n"
      ],
      "metadata": {
        "colab": {
          "base_uri": "https://localhost:8080/"
        },
        "id": "foGhYt5j9UNM",
        "outputId": "0ca4253e-72ce-45fe-8d7a-c7b322e9f9a7"
      },
      "execution_count": 9,
      "outputs": [
        {
          "output_type": "stream",
          "name": "stdout",
          "text": [
            "25\n"
          ]
        }
      ]
    },
    {
      "cell_type": "code",
      "source": [
        "# Q9 Explain the purpose and usage of the map() function in Python.\n",
        "\n",
        "# Answer\n",
        "#Applies a function to all items in an iterable.\n",
        "numbers = [1, 2, 3]\n",
        "squared = list(map(lambda x: x * x, numbers))\n",
        "print(squared)  # Output: [1, 4, 9]\n"
      ],
      "metadata": {
        "colab": {
          "base_uri": "https://localhost:8080/"
        },
        "id": "rXjcUrhw9j6N",
        "outputId": "f92a3b2a-7769-4c78-de8c-5cd8eea987e1"
      },
      "execution_count": 10,
      "outputs": [
        {
          "output_type": "stream",
          "name": "stdout",
          "text": [
            "[1, 4, 9]\n"
          ]
        }
      ]
    },
    {
      "cell_type": "code",
      "source": [
        "# Q10 What is the difference between map(), reduce(), and filter() functions in Python?\n",
        "\n",
        "# Answer\n",
        "#map(): Applies a function to each element in an iterable.\n",
        "#reduce(): Applies a function cumulatively to reduce the iterable to a single value.\n",
        "#filter(): Filters elements based on a condition.\n",
        "\n",
        "from functools import reduce\n",
        "\n",
        "nums = [1, 2, 3, 4]\n",
        "print(list(map(lambda x: x * x, nums)))  # map: [1, 4, 9, 16]\n",
        "print(list(filter(lambda x: x % 2 == 0, nums)))  # filter: [2, 4]\n",
        "print(reduce(lambda x, y: x + y, nums))  # reduce: 10\n"
      ],
      "metadata": {
        "colab": {
          "base_uri": "https://localhost:8080/"
        },
        "id": "Q4wMtHGv9rYy",
        "outputId": "9999a021-3c56-4c7d-b54b-4987c5d1ba33"
      },
      "execution_count": 11,
      "outputs": [
        {
          "output_type": "stream",
          "name": "stdout",
          "text": [
            "[1, 4, 9, 16]\n",
            "[2, 4]\n",
            "10\n"
          ]
        }
      ]
    },
    {
      "cell_type": "markdown",
      "source": [],
      "metadata": {
        "id": "CMfJ4rD2IZP_"
      }
    },
    {
      "cell_type": "code",
      "source": [
        "# Q11  Using pen & Paper write the internal mechanism for sum operation using  reduce function on this given\n",
        "#list:[47,11,42,13];\n",
        "\n",
        "# Answer - attached in the doc"
      ],
      "metadata": {
        "id": "wEtI_UV291Xp"
      },
      "execution_count": 25,
      "outputs": []
    },
    {
      "cell_type": "code",
      "source": [],
      "metadata": {
        "id": "sDeEbrrn-DAf"
      },
      "execution_count": null,
      "outputs": []
    },
    {
      "cell_type": "markdown",
      "source": [
        "# **Practical Questions **"
      ],
      "metadata": {
        "id": "v22e16bt-Ebm"
      }
    },
    {
      "cell_type": "code",
      "source": [
        "# Q1  Write a Python function that takes a list of numbers as input and returns the sum of all even numbers in\n",
        "#the list.\n",
        "\n",
        "# Answer\n",
        "def sum_of_evens(numbers):\n",
        "    return sum(num for num in numbers if num % 2 == 0)\n",
        "\n",
        "# Example usage\n",
        "numbers = [1, 2, 3, 4, 5, 6]\n",
        "print(sum_of_evens(numbers))  # Output: 12\n"
      ],
      "metadata": {
        "colab": {
          "base_uri": "https://localhost:8080/"
        },
        "id": "j0bi-saG-DMP",
        "outputId": "24a6615f-a54e-4dd8-eb74-c17bcb5d064d"
      },
      "execution_count": 12,
      "outputs": [
        {
          "output_type": "stream",
          "name": "stdout",
          "text": [
            "12\n"
          ]
        }
      ]
    },
    {
      "cell_type": "code",
      "source": [
        "# Q2 Create a Python function that accepts a string and returns the reverse of that string.\n",
        "\n",
        "# Answer\n",
        "def reverse_string(s):\n",
        "    return s[::-1]\n",
        "\n",
        "string = \"hello\"\n",
        "print(reverse_string(string))\n"
      ],
      "metadata": {
        "colab": {
          "base_uri": "https://localhost:8080/"
        },
        "id": "sJwTPwLO-hWI",
        "outputId": "6308ab5a-821b-4d26-c5e7-4bad652a3cb5"
      },
      "execution_count": 13,
      "outputs": [
        {
          "output_type": "stream",
          "name": "stdout",
          "text": [
            "olleh\n"
          ]
        }
      ]
    },
    {
      "cell_type": "code",
      "source": [
        "# Q3  Implement a Python function that takes a list of integers and returns a new list containing the squares of\n",
        "#each number.\n",
        "\n",
        "def square_numbers(numbers):\n",
        "    return [num**2 for num in numbers]\n",
        "numbers = [1, 2, 3, 4]\n",
        "print(square_numbers(numbers))\n"
      ],
      "metadata": {
        "colab": {
          "base_uri": "https://localhost:8080/"
        },
        "id": "Cmuqi0fj-rv7",
        "outputId": "480e7635-a161-4424-f202-899dede8b4a4"
      },
      "execution_count": 14,
      "outputs": [
        {
          "output_type": "stream",
          "name": "stdout",
          "text": [
            "[1, 4, 9, 16]\n"
          ]
        }
      ]
    },
    {
      "cell_type": "code",
      "source": [
        "# Q4 . Write a Python function that checks if a given number is prime or not from 1 to 200\n",
        "\n",
        "# Answer\n",
        "def is_prime(n):\n",
        "    if n < 2:\n",
        "        return False\n",
        "    for i in range(2, int(n**0.5) + 1):\n",
        "        if n % i == 0:\n",
        "            return False\n",
        "    return True\n",
        "\n",
        "# Example usage\n",
        "primes = [n for n in range(1, 201) if is_prime(n)]\n",
        "print(primes)\n"
      ],
      "metadata": {
        "colab": {
          "base_uri": "https://localhost:8080/"
        },
        "id": "QO9WHjpz-9mk",
        "outputId": "242ab423-8ded-47e1-d540-54fd51d7cf4d"
      },
      "execution_count": 15,
      "outputs": [
        {
          "output_type": "stream",
          "name": "stdout",
          "text": [
            "[2, 3, 5, 7, 11, 13, 17, 19, 23, 29, 31, 37, 41, 43, 47, 53, 59, 61, 67, 71, 73, 79, 83, 89, 97, 101, 103, 107, 109, 113, 127, 131, 137, 139, 149, 151, 157, 163, 167, 173, 179, 181, 191, 193, 197, 199]\n"
          ]
        }
      ]
    },
    {
      "cell_type": "code",
      "source": [
        "# Q5 Create an iterator class in Python that generates the Fibonacci sequence up to a specified number of\n",
        "#terms.\n",
        "\n",
        "# Answer\n",
        "class FibonacciIterator:\n",
        "    def __init__(self, terms):\n",
        "        self.terms = terms\n",
        "        self.count = 0\n",
        "        self.a, self.b = 0, 1\n",
        "\n",
        "    def __iter__(self):\n",
        "        return self\n",
        "\n",
        "    def __next__(self):\n",
        "        if self.count >= self.terms:\n",
        "            raise StopIteration\n",
        "        self.count += 1\n",
        "        value = self.a\n",
        "        self.a, self.b = self.b, self.a + self.b\n",
        "        return value\n",
        "\n",
        "fib = FibonacciIterator(10)\n",
        "print(list(fib))\n"
      ],
      "metadata": {
        "colab": {
          "base_uri": "https://localhost:8080/"
        },
        "id": "yD7FIy0M_Kt6",
        "outputId": "7834804f-d9b9-4121-ead3-7c921785eebf"
      },
      "execution_count": 16,
      "outputs": [
        {
          "output_type": "stream",
          "name": "stdout",
          "text": [
            "[0, 1, 1, 2, 3, 5, 8, 13, 21, 34]\n"
          ]
        }
      ]
    },
    {
      "cell_type": "code",
      "source": [
        "# Q6  Write a generator function in Python that yields the powers of 2 up to a given exponent.\n",
        "\n",
        "# Answer\n",
        "def powers_of_2(max_exponent):\n",
        "    for i in range(max_exponent + 1):\n",
        "        yield 2**i\n",
        "\n",
        "for power in powers_of_2(5):\n",
        "    print(power)\n"
      ],
      "metadata": {
        "colab": {
          "base_uri": "https://localhost:8080/"
        },
        "id": "aXQx1Fo8_Xjc",
        "outputId": "06f0715a-145a-4516-95de-d796c3ea01d9"
      },
      "execution_count": 17,
      "outputs": [
        {
          "output_type": "stream",
          "name": "stdout",
          "text": [
            "1\n",
            "2\n",
            "4\n",
            "8\n",
            "16\n",
            "32\n"
          ]
        }
      ]
    },
    {
      "cell_type": "code",
      "source": [
        "# Q7  Implement a generator function that reads a file line by line and yields each line as a string.\n",
        "\n",
        "# Answer\n",
        "def read_file_line_by_line(file_path):\n",
        "    with open(file_path, 'r') as file:\n",
        "        for line in file:\n",
        "            yield line.strip()\n",
        "\n",
        "for line in read_file_line_by_line(\"sample.txt\"):\n",
        "    print(line)\n"
      ],
      "metadata": {
        "colab": {
          "base_uri": "https://localhost:8080/"
        },
        "id": "EtN_yuwU_gZn",
        "outputId": "e4ab9cab-8b88-4a2d-956d-aee4a202c858"
      },
      "execution_count": 19,
      "outputs": [
        {
          "output_type": "stream",
          "name": "stdout",
          "text": [
            "Implement a generator\n",
            "function that reads a file line by\n",
            "line and yields each\n",
            "line as a string.\n"
          ]
        }
      ]
    },
    {
      "cell_type": "code",
      "source": [
        "# Q8 Use a lambda function in Python to sort a list of tuples based on the second element of each tuple.\n",
        "\n",
        "# Answer\n",
        "\n",
        "tuples = [(1, 3), (4, 1), (2, 2)]\n",
        "sorted_tuples = sorted(tuples, key=lambda x: x[1])\n",
        "print(sorted_tuples)  # Output: [(4, 1), (2, 2), (1, 3)]\n"
      ],
      "metadata": {
        "colab": {
          "base_uri": "https://localhost:8080/"
        },
        "id": "5Js92mkD_p2_",
        "outputId": "72832f05-703c-4c09-897d-754a2c3eb4c7"
      },
      "execution_count": 20,
      "outputs": [
        {
          "output_type": "stream",
          "name": "stdout",
          "text": [
            "[(4, 1), (2, 2), (1, 3)]\n"
          ]
        }
      ]
    },
    {
      "cell_type": "code",
      "source": [
        "# Q9 Write a Python program that uses `map()` to convert a list of temperatures from Celsius to Fahrenheit\n",
        "\n",
        "# Answer\n",
        "\n",
        "celsius = [0, 20, 30, 40]\n",
        "fahrenheit = list(map(lambda c: (c * 9/5) + 32, celsius))\n",
        "print(fahrenheit)\n"
      ],
      "metadata": {
        "colab": {
          "base_uri": "https://localhost:8080/"
        },
        "id": "2ow37IUPEWIw",
        "outputId": "2532b596-2737-4f49-d6a9-c80d273db5e8"
      },
      "execution_count": 21,
      "outputs": [
        {
          "output_type": "stream",
          "name": "stdout",
          "text": [
            "[32.0, 68.0, 86.0, 104.0]\n"
          ]
        }
      ]
    },
    {
      "cell_type": "code",
      "source": [
        "# Q10 Create a Python program that uses `filter()` to remove all the vowels from a given string.\n",
        "\n",
        "# Answer\n",
        "def remove_vowels(string):\n",
        "    vowels = \"aeiouAEIOU\"\n",
        "    return ''.join(filter(lambda char: char not in vowels, string))\n",
        "\n",
        "# Example usage\n",
        "string = \"hello world\"\n",
        "print(remove_vowels(string))\n",
        "\n"
      ],
      "metadata": {
        "colab": {
          "base_uri": "https://localhost:8080/"
        },
        "id": "f45nv2ctEe3-",
        "outputId": "f9189296-40ef-4a35-9a3f-6db67b43c3d4"
      },
      "execution_count": 23,
      "outputs": [
        {
          "output_type": "stream",
          "name": "stdout",
          "text": [
            "hll wrld\n"
          ]
        }
      ]
    },
    {
      "cell_type": "code",
      "source": [
        "\n",
        "\n",
        "# Q11 Write a Python program, which returns a list with 2-tuples. Each tuple consists of the order number and the\n",
        "#product of the price per item and the quantity. The product should be increased by 10,- € if the value of the\n",
        "#order is smaller than 100,00 €.\n",
        "\n",
        "#Write a Python program using lambda and map.\n",
        "\n",
        "# Answer\n",
        "\n",
        "orders = [\n",
        "    (34587, \"Learning Python, Mark Lutz\", 4, 40.95),\n",
        "    (98762, \"Programming Python, Mark Lutz\", 5, 56.80),\n",
        "    (77226, \"Head First Python, Paul Barry\", 3, 32.95),\n",
        "    (88112, \"Einführung in Python3, Bernd Klein\", 3, 24.99),\n",
        "]\n",
        "\n",
        "# Using lambda and map to process the orders\n",
        "result = list(map(\n",
        "    lambda order: (\n",
        "        order[0],\n",
        "        round(order[2] * order[3] + (10 if order[2] * order[3] < 100 else 0), 2)\n",
        "    ),\n",
        "    orders\n",
        "))\n",
        "\n",
        "# Output the result\n",
        "print(result)\n"
      ],
      "metadata": {
        "colab": {
          "base_uri": "https://localhost:8080/"
        },
        "id": "91EztPuhFLsE",
        "outputId": "be07c9e2-8929-4608-9db6-f5b68b1692df"
      },
      "execution_count": 24,
      "outputs": [
        {
          "output_type": "stream",
          "name": "stdout",
          "text": [
            "[(34587, 163.8), (98762, 284.0), (77226, 108.85), (88112, 84.97)]\n"
          ]
        }
      ]
    },
    {
      "cell_type": "code",
      "source": [],
      "metadata": {
        "id": "BHaKCiHWFw9R"
      },
      "execution_count": null,
      "outputs": []
    }
  ]
}